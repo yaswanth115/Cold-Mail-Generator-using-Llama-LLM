{
 "cells": [
  {
   "cell_type": "code",
   "execution_count": 5,
   "id": "f33226c0-ce2f-4b20-9c2d-5012cbfe01d5",
   "metadata": {},
   "outputs": [
    {
     "name": "stdout",
     "output_type": "stream",
     "text": [
      "The \"Rocket Man of India\" is a nickname given to Dr. A.P.J. Abdul Kalam, a renowned Indian scientist, engineer, and former President of India. He is often referred to as the \"Missile Man of India\" or \"Rocket Man of India\" due to his significant contributions to India's space and missile programs.\n",
      "\n",
      "Dr. Kalam played a crucial role in the development of India's first satellite launch vehicle, SLV-3, and the first indigenous guided missile, Prithvi. He also worked on the development of the Agni and Trishul missiles, which are key components of India's defense system.\n",
      "\n",
      "As a scientist and engineer, Dr. Kalam worked at the Indian Space Research Organisation (ISRO) and the Defence Research and Development Organisation (DRDO), where he made significant contributions to the development of India's space and missile programs. He was also a strong advocate for the use of technology to improve the lives of people, particularly in rural areas.\n",
      "\n",
      "Dr. Kalam's achievements and contributions to India's space and missile programs have earned him numerous awards and recognition, including the Bharat Ratna, India's highest civilian honor. He is widely regarded as one of the most influential and inspirational figures in Indian history, and his legacy continues to inspire future generations of scientists, engineers, and innovators.\n"
     ]
    }
   ],
   "source": [
    "from langchain_groq import ChatGroq\n",
    "\n",
    "llm = ChatGroq(\n",
    "    temperature=0,\n",
    "    groq_api_key='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',\n",
    "    model_name=\"llama-3.3-70b-versatile\"\n",
    ")\n",
    "response = llm.invoke(\" who is the rocket man of india\")\n",
    "print(response.content)\n",
    "    \n",
    "    "
   ]
  },
  {
   "cell_type": "code",
   "execution_count": 11,
   "id": "aae83339-99b2-44c7-9f32-402bbbafd9b9",
   "metadata": {},
   "outputs": [
    {
     "name": "stdout",
     "output_type": "stream",
     "text": [
      "Apply for Senior Product Analyst\n",
      "\n",
      "Search JobsSkip navigationSearch JobsNIKE, INC. JOBSContract JobsJoin The Talent CommunityLife @ NikeOverviewBenefitsBrandsOverviewJordanConverseTeamsOverviewAdministrative SupportAdvanced InnovationAir Manufacturing InnovationAviationCommunicationsCustomer ServiceDesignDigitalFacilitiesFinance & AccountingGovernment & Public AffairsHuman ResourcesInsights & AnalyticsLegalManufacturing & EngineeringMarketingMerchandisingPlanningPrivacyProcurementProduct Creation, Development & ManagementRetail CorporateRetail StoresSalesSocial & Community ImpactSports MarketingStrategic PlanningSupply Chain, Distribution & LogisticsSustainabilityTechnologyLocationsOverviewNike WHQNike New York HQEHQ: Hilversum, The NetherlandsELC: Laakdal, BelgiumGreater China HQDiversity, Equity & InclusionOverviewMilitary InclusionDisability InclusionIndigenous InclusionInternshipsData & AnalyticsSenior Product AnalystHilversum, North HollandBecome a Part of the NIKE, Inc. Team\n",
      "NIKE, Inc. does more than outfit the world’s best athletes. It is a place to explore potential, obliterate boundaries and push out the edges of what can be. The company looks for people who can grow, think, dream and create. Its culture thrives by embracing diversity and rewarding imagination. The brand seeks achievers, leaders and visionaries. At NIKE, Inc. it’s about each person bringing skills and passion to a challenging and constantly evolving game.WHO WE ARE LOOKING FOR We’re looking for a Senior Product Analyst to join our Nike Enterprise Data & AI team to work within our squads to develop and deliver data, analytical and AI/ML products that help Nike bring inspiration and innovation to every athlete* in the world. We own the products we build and support.  In this role, you will leverage your expertise in retail supply chain to develop and implement data-driven solutions that optimize Nike's end-to-end supply chain operations. You will analyze inventory management processes, demand forecasting models, and order fulfillment systems to identify opportunities for improvement and efficiency gains. Working closely with business partners and engineering teams, you will translate complex supply chain challenges into actionable analytical insights that drive better decision-making and operational excellence.  Your ability to navigate and create clarity within Nike's complex ecosystem of data sources, systems, and stakeholders will be crucial in delivering solutions that drive meaningful business impact and enable informed decision-making across the supply chain.  WHAT YOU WILL WORK ON If this is you, you will be working on technical solutions that serve other engineering, data, or business facing teams. Our technical solutions serve the end-to-end breadth of Nike, from building foundational data capabilities, creating analytical products to help the Nike business make better decisions to optimizing our supply chain enabling our business to run as efficiently as possible. We run agile squads where transparency and trust are key, and collectively bring a culture of engineering excellence and continuous improvement to the organization.   As a Senior Product Analyst, applying your domain knowledge you will be tasked with understanding data analysis and integration requirements to guide solution design and architecture to meet these needs.  You will support product teams in their product decisions using quantitative data to inform the next steps. You will coach and mentor same role junior colleagues.  WHO YOU WILL WORK WITH As part agile scrum team, working with the Product Manager, Scrum Lead and other team members that drive to deliver innovative data solutions. Advising product and business owners on specific technology-related aspects required to deliver solutions correctly.  You will partner with the Product Manager to envision future use cases for our products and assist in the roadmap to fulfill those use cases. Working with your business partners to understand requirements for data use, analysis, and quality, you will help translate this into a product backlog for your squad.  Working with Engineers and other Product Analysts within your squad and cross domain squads, you will identify and aggregate data from internal and external sources, perform data mining and modelling, and identify patterns and trends in data sets. A strong relationship with Data Governance will to ensure data stewardship and quality for your products. You will be reporting into engineering leadership, who will guide you to grow and build your career path.  WHAT YOU BRING Proven track record in Product Analytics role within a professional environment turning data into insightsExperience in Requirement Gathering with business as well as technical stakeholders  Experience with Data Modelling/Data Architectures (e.g. creating Source-To-Target Mappings) is preferred Perform functional analysis for defining technical requirements for engineering team   Strong analytical and communication skills with the ability to convey technical concepts in plain language Experience in working with SQL , NoSQL and RDBMS with Enterprise or Big Data Knowledge of data warehouse architectures and best practices Experience with Visualization tools such as Cognos, Tableau  Experience in writing and maintaining User & Technical Documentation (e.g. in Confluence) Ability to solve complex problems and take a new perspective on existing solutions is preferred This job will expire on the 31st of JanuaryUnfortunately, there's no relocation provided for this roleNIKE, Inc. is a growth company that looks for team members to grow with it. Nike offers a generous total rewards package, casual work environment, a diverse and inclusive culture, and an electric atmosphere for professional development. No matter the location, or the role, every Nike employee shares one galvanizing mission: To bring inspiration and innovation to every athlete* in the world.NIKE, Inc. is committed to employing a diverse workforce. Qualified applicants will receive consideration without regard to race, color, religion, sex, national origin, age, sexual orientation, gender identity, gender expression, veteran status, or disability.How We HireAt NIKE, Inc. we promise to provide a premium, inclusive, compelling and authentic candidate experience. Delivering on this promise means we allow you to be at your best — and to do that, you need to understand how the hiring process works. Transparency is key.\n",
      "\n",
      "* This overview explains our hiring process for corporate roles. Note there may be different hiring steps involved for non-corporate roles.Start nowBenefitsWhether it’s transportation or financial health, we continually invest in our employees to help them achieve greatness — inside and outside of work. All who work here should be able to realize their full potential.Employee Assistance ProgramEmployee Stock Purchase Plan (ESPP)HolidaysMedical PlanPaid Time Off (PTO)Product DiscountsSabbaticalsLearn moreFIND A STOREBECOME A MEMBERSIGN UP FOR EMAILSEND US FEEDBACKSTUDENT DISCOUNTSGET HELPGET HELPOrder StatusDeliveryReturnsPayment OptionsContact Us On Nike.com InquiriesContact Us On All Other InquiriesABOUT NIKEABOUT NIKENewsCareersInvestorsSustainabilityIndia© 2025 Nike, Inc. All Rights ReservedGuidesNike AdaptNike Air MaxNike FlyleatherNike PegasusNike Zoom FlyNike AirNike FlyEaseNike FreeNike ReactNike ZoomXNike Air Force 1Nike FlyknitNike JoyrideNike VaporflyTerms of SaleTerms of UseNike Privacy Policy\n"
     ]
    }
   ],
   "source": [
    "from langchain_community.document_loaders import WebBaseLoader\n",
    "\n",
    "loader = WebBaseLoader(\"https://jobs.nike.com/job/R-47078?from=job%20search%20funnel\")\n",
    "page_data = loader.load().pop().page_content\n",
    "print(page_data)"
   ]
  },
  {
   "cell_type": "code",
   "execution_count": 19,
   "id": "5a93aa38-0f01-4714-af05-a8a3aa4252b5",
   "metadata": {},
   "outputs": [
    {
     "name": "stdout",
     "output_type": "stream",
     "text": [
      "```json\n",
      "{\n",
      "  \"role\": \"Senior Product Analyst\",\n",
      "  \"experience\": \"Proven track record in Product Analytics role within a professional environment turning data into insights\",\n",
      "  \"skills\": [\n",
      "    \"Data Modelling/Data Architectures\",\n",
      "    \"SQL\",\n",
      "    \"NoSQL\",\n",
      "    \"RDBMS\",\n",
      "    \"Data warehouse architectures\",\n",
      "    \"Visualization tools such as Cognos, Tableau\",\n",
      "    \"Writing and maintaining User & Technical Documentation\"\n",
      "  ],\n",
      "  \"description\": \"We’re looking for a Senior Product Analyst to join our Nike Enterprise Data & AI team to work within our squads to develop and deliver data, analytical and AI/ML products that help Nike bring inspiration and innovation to every athlete* in the world.\"\n",
      "}\n",
      "```\n"
     ]
    }
   ],
   "source": [
    "from langchain_core.prompts import PromptTemplate\n",
    "prompt_extract = PromptTemplate.from_template(\n",
    "    \"\"\"\n",
    "    ###SCRAPED TEXT FROM WEBSITE\n",
    "    {page_data}\n",
    "    ###INSTRUCTION\n",
    "    The scraped text is from career's page of the website.\n",
    "    Your job is to extract the job postings and  return them in JSIN format containing\n",
    "    following keys: `role`, `experience`,`skills` and `description`.\n",
    "    Only return the vaild JSON\n",
    "    ###VALID JSON(NO PREAMBLE):\n",
    "    \"\"\"\n",
    ")\n",
    "chain_extract = prompt_extract | llm\n",
    "res = chain_extract.invoke(input={'page_data':page_data})\n",
    "print(res.content)"
   ]
  },
  {
   "cell_type": "code",
   "execution_count": 21,
   "id": "df7b9260-537f-4d00-b101-10f10a026e4d",
   "metadata": {},
   "outputs": [
    {
     "data": {
      "text/plain": [
       "str"
      ]
     },
     "execution_count": 21,
     "metadata": {},
     "output_type": "execute_result"
    }
   ],
   "source": [
    "type(res.content)"
   ]
  },
  {
   "cell_type": "code",
   "execution_count": 29,
   "id": "cf591839-242f-4193-8eac-e2f52a982c7c",
   "metadata": {},
   "outputs": [
    {
     "data": {
      "text/plain": [
       "{'role': 'Senior Product Analyst',\n",
       " 'experience': 'Proven track record in Product Analytics role within a professional environment turning data into insights',\n",
       " 'skills': ['Data Modelling/Data Architectures',\n",
       "  'SQL',\n",
       "  'NoSQL',\n",
       "  'RDBMS',\n",
       "  'Data warehouse architectures',\n",
       "  'Visualization tools such as Cognos, Tableau',\n",
       "  'Writing and maintaining User & Technical Documentation'],\n",
       " 'description': 'We’re looking for a Senior Product Analyst to join our Nike Enterprise Data & AI team to work within our squads to develop and deliver data, analytical and AI/ML products that help Nike bring inspiration and innovation to every athlete* in the world.'}"
      ]
     },
     "execution_count": 29,
     "metadata": {},
     "output_type": "execute_result"
    }
   ],
   "source": [
    "from langchain_core.output_parsers import JsonOutputParser\n",
    "\n",
    "json_parser = JsonOutputParser()\n",
    "json_res = json_parser.parse(res.content)\n",
    "json_res"
   ]
  },
  {
   "cell_type": "code",
   "execution_count": 31,
   "id": "47f97cd7-2ab2-401c-8ef5-14302e0057b2",
   "metadata": {},
   "outputs": [
    {
     "data": {
      "text/plain": [
       "dict"
      ]
     },
     "execution_count": 31,
     "metadata": {},
     "output_type": "execute_result"
    }
   ],
   "source": [
    "type(json_res)"
   ]
  },
  {
   "cell_type": "code",
   "execution_count": 33,
   "id": "d3dc7cae-7e93-4c69-8590-ab809bf06958",
   "metadata": {},
   "outputs": [
    {
     "data": {
      "text/html": [
       "<div>\n",
       "<style scoped>\n",
       "    .dataframe tbody tr th:only-of-type {\n",
       "        vertical-align: middle;\n",
       "    }\n",
       "\n",
       "    .dataframe tbody tr th {\n",
       "        vertical-align: top;\n",
       "    }\n",
       "\n",
       "    .dataframe thead th {\n",
       "        text-align: right;\n",
       "    }\n",
       "</style>\n",
       "<table border=\"1\" class=\"dataframe\">\n",
       "  <thead>\n",
       "    <tr style=\"text-align: right;\">\n",
       "      <th></th>\n",
       "      <th>Techstack</th>\n",
       "      <th>Links</th>\n",
       "    </tr>\n",
       "  </thead>\n",
       "  <tbody>\n",
       "    <tr>\n",
       "      <th>0</th>\n",
       "      <td>React, Node.js, MongoDB</td>\n",
       "      <td>https://example.com/react-portfolio</td>\n",
       "    </tr>\n",
       "    <tr>\n",
       "      <th>1</th>\n",
       "      <td>Angular,.NET, SQL Server</td>\n",
       "      <td>https://example.com/angular-portfolio</td>\n",
       "    </tr>\n",
       "    <tr>\n",
       "      <th>2</th>\n",
       "      <td>Vue.js, Ruby on Rails, PostgreSQL</td>\n",
       "      <td>https://example.com/vue-portfolio</td>\n",
       "    </tr>\n",
       "    <tr>\n",
       "      <th>3</th>\n",
       "      <td>Python, Django, MySQL</td>\n",
       "      <td>https://example.com/python-portfolio</td>\n",
       "    </tr>\n",
       "    <tr>\n",
       "      <th>4</th>\n",
       "      <td>Java, Spring Boot, Oracle</td>\n",
       "      <td>https://example.com/java-portfolio</td>\n",
       "    </tr>\n",
       "    <tr>\n",
       "      <th>5</th>\n",
       "      <td>Flutter, Firebase, GraphQL</td>\n",
       "      <td>https://example.com/flutter-portfolio</td>\n",
       "    </tr>\n",
       "    <tr>\n",
       "      <th>6</th>\n",
       "      <td>WordPress, PHP, MySQL</td>\n",
       "      <td>https://example.com/wordpress-portfolio</td>\n",
       "    </tr>\n",
       "    <tr>\n",
       "      <th>7</th>\n",
       "      <td>Magento, PHP, MySQL</td>\n",
       "      <td>https://example.com/magento-portfolio</td>\n",
       "    </tr>\n",
       "    <tr>\n",
       "      <th>8</th>\n",
       "      <td>React Native, Node.js, MongoDB</td>\n",
       "      <td>https://example.com/react-native-portfolio</td>\n",
       "    </tr>\n",
       "    <tr>\n",
       "      <th>9</th>\n",
       "      <td>iOS, Swift, Core Data</td>\n",
       "      <td>https://example.com/ios-portfolio</td>\n",
       "    </tr>\n",
       "    <tr>\n",
       "      <th>10</th>\n",
       "      <td>Android, Java, Room Persistence</td>\n",
       "      <td>https://example.com/android-portfolio</td>\n",
       "    </tr>\n",
       "    <tr>\n",
       "      <th>11</th>\n",
       "      <td>Kotlin, Android, Firebase</td>\n",
       "      <td>https://example.com/kotlin-android-portfolio</td>\n",
       "    </tr>\n",
       "    <tr>\n",
       "      <th>12</th>\n",
       "      <td>Android TV, Kotlin, Android NDK</td>\n",
       "      <td>https://example.com/android-tv-portfolio</td>\n",
       "    </tr>\n",
       "    <tr>\n",
       "      <th>13</th>\n",
       "      <td>iOS, Swift, ARKit</td>\n",
       "      <td>https://example.com/ios-ar-portfolio</td>\n",
       "    </tr>\n",
       "    <tr>\n",
       "      <th>14</th>\n",
       "      <td>Cross-platform, Xamarin, Azure</td>\n",
       "      <td>https://example.com/xamarin-portfolio</td>\n",
       "    </tr>\n",
       "    <tr>\n",
       "      <th>15</th>\n",
       "      <td>Backend, Kotlin, Spring Boot</td>\n",
       "      <td>https://example.com/kotlin-backend-portfolio</td>\n",
       "    </tr>\n",
       "    <tr>\n",
       "      <th>16</th>\n",
       "      <td>Frontend, TypeScript, Angular</td>\n",
       "      <td>https://example.com/typescript-frontend-portfolio</td>\n",
       "    </tr>\n",
       "    <tr>\n",
       "      <th>17</th>\n",
       "      <td>Full-stack, JavaScript, Express.js</td>\n",
       "      <td>https://example.com/full-stack-js-portfolio</td>\n",
       "    </tr>\n",
       "    <tr>\n",
       "      <th>18</th>\n",
       "      <td>Machine Learning, Python, TensorFlow</td>\n",
       "      <td>https://example.com/ml-python-portfolio</td>\n",
       "    </tr>\n",
       "    <tr>\n",
       "      <th>19</th>\n",
       "      <td>DevOps, Jenkins, Docker</td>\n",
       "      <td>https://example.com/devops-portfolio</td>\n",
       "    </tr>\n",
       "  </tbody>\n",
       "</table>\n",
       "</div>"
      ],
      "text/plain": [
       "                               Techstack  \\\n",
       "0                React, Node.js, MongoDB   \n",
       "1               Angular,.NET, SQL Server   \n",
       "2      Vue.js, Ruby on Rails, PostgreSQL   \n",
       "3                  Python, Django, MySQL   \n",
       "4              Java, Spring Boot, Oracle   \n",
       "5             Flutter, Firebase, GraphQL   \n",
       "6                  WordPress, PHP, MySQL   \n",
       "7                    Magento, PHP, MySQL   \n",
       "8         React Native, Node.js, MongoDB   \n",
       "9                  iOS, Swift, Core Data   \n",
       "10       Android, Java, Room Persistence   \n",
       "11             Kotlin, Android, Firebase   \n",
       "12       Android TV, Kotlin, Android NDK   \n",
       "13                     iOS, Swift, ARKit   \n",
       "14        Cross-platform, Xamarin, Azure   \n",
       "15          Backend, Kotlin, Spring Boot   \n",
       "16         Frontend, TypeScript, Angular   \n",
       "17    Full-stack, JavaScript, Express.js   \n",
       "18  Machine Learning, Python, TensorFlow   \n",
       "19               DevOps, Jenkins, Docker   \n",
       "\n",
       "                                                Links  \n",
       "0                 https://example.com/react-portfolio  \n",
       "1               https://example.com/angular-portfolio  \n",
       "2                   https://example.com/vue-portfolio  \n",
       "3                https://example.com/python-portfolio  \n",
       "4                  https://example.com/java-portfolio  \n",
       "5               https://example.com/flutter-portfolio  \n",
       "6             https://example.com/wordpress-portfolio  \n",
       "7               https://example.com/magento-portfolio  \n",
       "8          https://example.com/react-native-portfolio  \n",
       "9                   https://example.com/ios-portfolio  \n",
       "10              https://example.com/android-portfolio  \n",
       "11       https://example.com/kotlin-android-portfolio  \n",
       "12           https://example.com/android-tv-portfolio  \n",
       "13               https://example.com/ios-ar-portfolio  \n",
       "14              https://example.com/xamarin-portfolio  \n",
       "15       https://example.com/kotlin-backend-portfolio  \n",
       "16  https://example.com/typescript-frontend-portfolio  \n",
       "17        https://example.com/full-stack-js-portfolio  \n",
       "18            https://example.com/ml-python-portfolio  \n",
       "19               https://example.com/devops-portfolio  "
      ]
     },
     "execution_count": 33,
     "metadata": {},
     "output_type": "execute_result"
    }
   ],
   "source": [
    "import pandas as pd\n",
    "\n",
    "df = pd.read_csv(\"my_portfolio.csv\")\n",
    "df"
   ]
  },
  {
   "cell_type": "code",
   "execution_count": 37,
   "id": "3a5f2b85-da1a-4eea-8fec-2d38f5dce7a8",
   "metadata": {},
   "outputs": [],
   "source": [
    "import uuid\n",
    "import chromadb\n",
    "\n",
    "client = chromadb.PersistentClient('vectorstore')\n",
    "collection = client.get_or_create_collection(name=\"portfolio\")\n",
    "if not collection.count():\n",
    "    for _, row in df.iterrows():\n",
    "        collection.add(documents=row[\"Techstack\"],\n",
    "                       metadatas={\"links\":row[\"Links\"]},\n",
    "                       ids=[str(uuid.uuid4())])"
   ]
  },
  {
   "cell_type": "code",
   "execution_count": 39,
   "id": "6e5a8bfc-d65d-4421-8716-fdbc03f1d710",
   "metadata": {},
   "outputs": [
    {
     "data": {
      "text/plain": [
       "[[{'links': 'https://example.com/ml-python-portfolio'},\n",
       "  {'links': 'https://example.com/python-portfolio'}],\n",
       " [{'links': 'https://example.com/react-portfolio'},\n",
       "  {'links': 'https://example.com/react-native-portfolio'}]]"
      ]
     },
     "execution_count": 39,
     "metadata": {},
     "output_type": "execute_result"
    }
   ],
   "source": [
    "links = collection.query(query_texts=[\"Experience in Python\", \"Expertise in React\"], n_results=2).get('metadatas')\n",
    "links"
   ]
  },
  {
   "cell_type": "code",
   "execution_count": 41,
   "id": "0bcb80b2-6a5a-4c02-bc5d-317a8c10fa55",
   "metadata": {},
   "outputs": [
    {
     "data": {
      "text/plain": [
       "['Data Modelling/Data Architectures',\n",
       " 'SQL',\n",
       " 'NoSQL',\n",
       " 'RDBMS',\n",
       " 'Data warehouse architectures',\n",
       " 'Visualization tools such as Cognos, Tableau',\n",
       " 'Writing and maintaining User & Technical Documentation']"
      ]
     },
     "execution_count": 41,
     "metadata": {},
     "output_type": "execute_result"
    }
   ],
   "source": [
    "job = json_res\n",
    "job['skills']"
   ]
  },
  {
   "cell_type": "code",
   "execution_count": 51,
   "id": "d27544a2-30bd-438b-9b46-a488be558dc2",
   "metadata": {},
   "outputs": [
    {
     "name": "stdout",
     "output_type": "stream",
     "text": [
      "Subject: Expert Product Analytics Solutions for Nike Enterprise Data & AI Team\n",
      "\n",
      "Dear Hiring Manager,\n",
      "\n",
      "I came across the Senior Product Analyst role at Nike and was impressed by the company's commitment to leveraging data and AI to drive innovation. As a business development executive at AtliQ, an AI & Software Consulting company, I believe our expertise can help fulfill your team's needs.\n",
      "\n",
      "At AtliQ, we have a proven track record of empowering enterprises with tailored solutions, fostering scalability, process optimization, cost reduction, and heightened overall efficiency. Our team of experts has extensive experience in developing and delivering data, analytical, and AI/ML products that drive business growth.\n",
      "\n",
      "In particular, our capabilities align with the requirements of the Senior Product Analyst role, including:\n",
      "\n",
      "* Data Modelling/Data Architectures\n",
      "* SQL, NoSQL, and RDBMS\n",
      "* Data warehouse architectures\n",
      "* Visualization tools such as Cognos and Tableau\n",
      "* Writing and maintaining User & Technical Documentation\n",
      "\n",
      "Our portfolio showcases our expertise in AI and ML, including projects such as:\n",
      "https://example.com/ml-python-portfolio, which demonstrates our proficiency in machine learning using Python. We have also worked on various data analytics projects, including https://example.com/python-portfolio, which highlights our ability to extract insights from complex data sets.\n",
      "\n",
      "I would be delighted to discuss how AtliQ can support Nike's Enterprise Data & AI team in developing and delivering innovative products that inspire every athlete in the world. Please let me know if you would like to schedule a call to explore further.\n",
      "\n",
      "Best regards,\n",
      "Mohan\n",
      "Business Development Executive, AtliQ\n"
     ]
    }
   ],
   "source": [
    "prompt_email = PromptTemplate.from_template(\n",
    "        \"\"\"\n",
    "        ### JOB DESCRIPTION:\n",
    "        {job_description}\n",
    "        \n",
    "        ### INSTRUCTION:\n",
    "        You are Mohan, a business development executive at AtliQ. AtliQ is an AI & Software Consulting company dedicated to facilitating\n",
    "        the seamless integration of business processes through automated tools. \n",
    "        Over our experience, we have empowered numerous enterprises with tailored solutions, fostering scalability, \n",
    "        process optimization, cost reduction, and heightened overall efficiency. \n",
    "        Your job is to write a cold email to the client regarding the job mentioned above describing the capability of AtliQ \n",
    "        in fulfilling their needs.\n",
    "        Also add the most relevant ones from the following links to showcase Atliq's portfolio: {link_list}\n",
    "        Remember you are Yaswanth Veguru, AI/ML Engineer at TEMS Tech Solutions. \n",
    "        Do not provide a preamble.\n",
    "        ### EMAIL (NO PREAMBLE):\n",
    "        \n",
    "        \"\"\"\n",
    ")\n",
    "chain_email = prompt_email | llm\n",
    "res = chain_email.invoke({\"job_description\": str(job), \"link_list\":links})\n",
    "print(res.content)"
   ]
  },
  {
   "cell_type": "code",
   "execution_count": null,
   "id": "ba13f461-2b1a-417e-a24f-f63baf6c91b0",
   "metadata": {},
   "outputs": [],
   "source": []
  }
 ],
 "metadata": {
  "kernelspec": {
   "display_name": "Python [conda env:base] *",
   "language": "python",
   "name": "conda-base-py"
  },
  "language_info": {
   "codemirror_mode": {
    "name": "ipython",
    "version": 3
   },
   "file_extension": ".py",
   "mimetype": "text/x-python",
   "name": "python",
   "nbconvert_exporter": "python",
   "pygments_lexer": "ipython3",
   "version": "3.12.7"
  }
 },
 "nbformat": 4,
 "nbformat_minor": 5
}
